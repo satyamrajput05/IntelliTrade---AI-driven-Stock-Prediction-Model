{
 "cells": [
  {
   "cell_type": "code",
   "execution_count": 1,
   "id": "c3ec6c40-1d90-4187-93e4-7b763669c85e",
   "metadata": {},
   "outputs": [],
   "source": [
    "import numpy as np\n",
    "import pandas as pd\n",
    "import matplotlib. pyplot as plt\n",
    "\n",
    "from textblob import TextBlob\n",
    "import re\n",
    "from vaderSentiment.vaderSentiment import SentimentIntensityAnalyzer\n",
    "from sklearn.preprocessing import MinMaxScaler,StandardScaler\n",
    "\n",
    "from keras.layers import LSTM, Dense, Dropout\n",
    "\n",
    "from sklearn.model_selection import TimeSeriesSplit\n",
    "from sklearn.metrics import mean_squared_error, r2_score\n",
    "from tensorflow.keras.models import Sequential\n",
    "\n",
    "import warnings \n",
    "warnings.filterwarnings('ignore')"
   ]
  },
  {
   "cell_type": "code",
   "execution_count": 2,
   "id": "a850a6e9-e301-4988-b8c1-a2ef165948c4",
   "metadata": {},
   "outputs": [],
   "source": [
    "df2=pd.read_csv(r\"C:\\Users\\Priyanshul\\OneDrive\\Desktop\\Hackathon\\stock-market-prediction-and-sentimental-analysis\\update_data.csv\",index_col='Date',parse_dates=True,infer_datetime_format=True)\n",
    "df1 = pd.read_csv(r\"C:\\Users\\Priyanshul\\OneDrive\\Desktop\\Hackathon\\stock-market-prediction-and-sentimental-analysis\\updated1.csv\\Combined_News_DJIA(train).csv\",parse_dates=True,infer_datetime_format=True)"
   ]
  },
  {
   "cell_type": "code",
   "execution_count": 3,
   "id": "8d02a4ef-966e-4009-8b8b-a88cd6fd86b9",
   "metadata": {},
   "outputs": [],
   "source": [
    "df1.loc[:, 'Date'] = pd.to_datetime(df1['Date'])\n",
    "merge=df1.merge(df2,how='inner',on='Date')"
   ]
  },
  {
   "cell_type": "code",
   "execution_count": 4,
   "id": "dcf9e419-e327-41ae-87e7-e256b60202dc",
   "metadata": {},
   "outputs": [],
   "source": [
    "headlines = []\n",
    "\n",
    "for row in range(0,len(merge.index)):\n",
    "    headlines.append(' '.join( str(x) for x in merge.iloc[row,2:27]))"
   ]
  },
  {
   "cell_type": "code",
   "execution_count": 5,
   "id": "de5acff4-6620-45f1-99fb-88fd36c1328e",
   "metadata": {},
   "outputs": [],
   "source": [
    "clean_headlines = []\n",
    "\n",
    "for i in range(0,len(headlines)):\n",
    "    clean_headlines.append(re.sub(\"b[(')]\",' ',headlines[i]))\n",
    "    clean_headlines[i]= re.sub('b[(\")]',' ',clean_headlines[i])\n",
    "    clean_headlines[i]= re.sub(\"\\'\",' ',clean_headlines[i])"
   ]
  },
  {
   "cell_type": "code",
   "execution_count": 6,
   "id": "26bb3ed3-dd92-433e-9eb2-41837c6b3929",
   "metadata": {},
   "outputs": [],
   "source": [
    "merge['Combined_news']=clean_headlines"
   ]
  },
  {
   "cell_type": "code",
   "execution_count": 7,
   "id": "09cf2fb5-ff4e-40ca-8256-0e80602e220b",
   "metadata": {},
   "outputs": [],
   "source": [
    "def getSubjectivity(text):\n",
    "    return TextBlob(text).sentiment.subjectivity\n",
    "def getPolarity(text):\n",
    "    return TextBlob(text).sentiment.polarity"
   ]
  },
  {
   "cell_type": "code",
   "execution_count": 8,
   "id": "05eea1ea-2f28-44fc-8c3a-3e53fb4de303",
   "metadata": {},
   "outputs": [],
   "source": [
    "merge['Subjectivity']=merge['Combined_news'].apply(getSubjectivity)\n",
    "merge['Polarity']=merge['Combined_news'].apply(getPolarity)"
   ]
  },
  {
   "cell_type": "code",
   "execution_count": 9,
   "id": "3a9e9e31-66ab-4e91-bce2-15d726b2636c",
   "metadata": {},
   "outputs": [],
   "source": [
    "def getSIA(text):\n",
    "    sia = SentimentIntensityAnalyzer()\n",
    "    sentiment = sia.polarity_scores(text)\n",
    "    return sentiment"
   ]
  },
  {
   "cell_type": "code",
   "execution_count": 10,
   "id": "c1227bb9-44b4-423f-bd7a-b5325245ec8d",
   "metadata": {},
   "outputs": [],
   "source": [
    "compound = []\n",
    "neg = []\n",
    "pos = []\n",
    "neu = []\n",
    "SIA=0\n",
    "\n",
    "for i in range(0,len(merge['Combined_news'])):\n",
    "    SIA = getSIA(merge['Combined_news'][i])\n",
    "    compound.append(SIA['compound'])\n",
    "    neg.append(SIA['neg'])\n",
    "    pos.append(SIA['pos'])\n",
    "    neu.append(SIA['neu'])"
   ]
  },
  {
   "cell_type": "code",
   "execution_count": 11,
   "id": "f2ce31b0-c0d1-420c-abf5-5b4d272a1df3",
   "metadata": {},
   "outputs": [],
   "source": [
    "merge['Compound']=compound\n",
    "merge['Negative']=neg\n",
    "merge['Positive']=pos\n",
    "merge['Neutral']=neu"
   ]
  },
  {
   "cell_type": "code",
   "execution_count": 12,
   "id": "674e584b-73f7-4f6b-bfb6-9f27b867a95c",
   "metadata": {},
   "outputs": [
    {
     "data": {
      "text/html": [
       "<div>\n",
       "<style scoped>\n",
       "    .dataframe tbody tr th:only-of-type {\n",
       "        vertical-align: middle;\n",
       "    }\n",
       "\n",
       "    .dataframe tbody tr th {\n",
       "        vertical-align: top;\n",
       "    }\n",
       "\n",
       "    .dataframe thead th {\n",
       "        text-align: right;\n",
       "    }\n",
       "</style>\n",
       "<table border=\"1\" class=\"dataframe\">\n",
       "  <thead>\n",
       "    <tr style=\"text-align: right;\">\n",
       "      <th></th>\n",
       "      <th>Date</th>\n",
       "      <th>Open</th>\n",
       "      <th>High</th>\n",
       "      <th>Low</th>\n",
       "      <th>Close</th>\n",
       "      <th>Volume</th>\n",
       "      <th>Subjectivity</th>\n",
       "      <th>Polarity</th>\n",
       "      <th>Compound</th>\n",
       "      <th>Negative</th>\n",
       "      <th>Neutral</th>\n",
       "      <th>Positive</th>\n",
       "    </tr>\n",
       "  </thead>\n",
       "  <tbody>\n",
       "    <tr>\n",
       "      <th>0</th>\n",
       "      <td>2008-08-08</td>\n",
       "      <td>11432.08984</td>\n",
       "      <td>11759.95996</td>\n",
       "      <td>11388.04004</td>\n",
       "      <td>11734.32031</td>\n",
       "      <td>212830000</td>\n",
       "      <td>0.267549</td>\n",
       "      <td>-0.048568</td>\n",
       "      <td>-0.9982</td>\n",
       "      <td>0.233</td>\n",
       "      <td>0.726</td>\n",
       "      <td>0.041</td>\n",
       "    </tr>\n",
       "    <tr>\n",
       "      <th>1</th>\n",
       "      <td>2008-08-11</td>\n",
       "      <td>11729.66992</td>\n",
       "      <td>11867.11035</td>\n",
       "      <td>11675.53027</td>\n",
       "      <td>11782.34961</td>\n",
       "      <td>183190000</td>\n",
       "      <td>0.374806</td>\n",
       "      <td>0.121956</td>\n",
       "      <td>-0.9858</td>\n",
       "      <td>0.188</td>\n",
       "      <td>0.724</td>\n",
       "      <td>0.088</td>\n",
       "    </tr>\n",
       "    <tr>\n",
       "      <th>2</th>\n",
       "      <td>2008-08-12</td>\n",
       "      <td>11781.70020</td>\n",
       "      <td>11782.34961</td>\n",
       "      <td>11601.51953</td>\n",
       "      <td>11642.46973</td>\n",
       "      <td>173590000</td>\n",
       "      <td>0.518785</td>\n",
       "      <td>-0.046530</td>\n",
       "      <td>-0.9715</td>\n",
       "      <td>0.126</td>\n",
       "      <td>0.819</td>\n",
       "      <td>0.055</td>\n",
       "    </tr>\n",
       "    <tr>\n",
       "      <th>3</th>\n",
       "      <td>2008-08-13</td>\n",
       "      <td>11632.80957</td>\n",
       "      <td>11633.78027</td>\n",
       "      <td>11453.33984</td>\n",
       "      <td>11532.95996</td>\n",
       "      <td>182550000</td>\n",
       "      <td>0.364021</td>\n",
       "      <td>0.011398</td>\n",
       "      <td>-0.9809</td>\n",
       "      <td>0.143</td>\n",
       "      <td>0.793</td>\n",
       "      <td>0.064</td>\n",
       "    </tr>\n",
       "    <tr>\n",
       "      <th>4</th>\n",
       "      <td>2008-08-14</td>\n",
       "      <td>11532.07031</td>\n",
       "      <td>11718.28027</td>\n",
       "      <td>11450.88965</td>\n",
       "      <td>11615.92969</td>\n",
       "      <td>159790000</td>\n",
       "      <td>0.375099</td>\n",
       "      <td>0.040677</td>\n",
       "      <td>-0.9882</td>\n",
       "      <td>0.188</td>\n",
       "      <td>0.719</td>\n",
       "      <td>0.093</td>\n",
       "    </tr>\n",
       "    <tr>\n",
       "      <th>...</th>\n",
       "      <td>...</td>\n",
       "      <td>...</td>\n",
       "      <td>...</td>\n",
       "      <td>...</td>\n",
       "      <td>...</td>\n",
       "      <td>...</td>\n",
       "      <td>...</td>\n",
       "      <td>...</td>\n",
       "      <td>...</td>\n",
       "      <td>...</td>\n",
       "      <td>...</td>\n",
       "      <td>...</td>\n",
       "    </tr>\n",
       "    <tr>\n",
       "      <th>1858</th>\n",
       "      <td>2015-12-24</td>\n",
       "      <td>17593.25977</td>\n",
       "      <td>17606.33984</td>\n",
       "      <td>17543.94922</td>\n",
       "      <td>17552.16992</td>\n",
       "      <td>40350000</td>\n",
       "      <td>0.317617</td>\n",
       "      <td>0.052091</td>\n",
       "      <td>-0.9966</td>\n",
       "      <td>0.158</td>\n",
       "      <td>0.803</td>\n",
       "      <td>0.039</td>\n",
       "    </tr>\n",
       "    <tr>\n",
       "      <th>1859</th>\n",
       "      <td>2015-12-28</td>\n",
       "      <td>17535.66016</td>\n",
       "      <td>17536.90039</td>\n",
       "      <td>17437.33984</td>\n",
       "      <td>17528.26953</td>\n",
       "      <td>59770000</td>\n",
       "      <td>0.284549</td>\n",
       "      <td>-0.030512</td>\n",
       "      <td>-0.9944</td>\n",
       "      <td>0.144</td>\n",
       "      <td>0.830</td>\n",
       "      <td>0.026</td>\n",
       "    </tr>\n",
       "    <tr>\n",
       "      <th>1860</th>\n",
       "      <td>2015-12-29</td>\n",
       "      <td>17547.36914</td>\n",
       "      <td>17750.01953</td>\n",
       "      <td>17547.36914</td>\n",
       "      <td>17720.98047</td>\n",
       "      <td>69860000</td>\n",
       "      <td>0.359273</td>\n",
       "      <td>0.101038</td>\n",
       "      <td>-0.9920</td>\n",
       "      <td>0.143</td>\n",
       "      <td>0.817</td>\n",
       "      <td>0.039</td>\n",
       "    </tr>\n",
       "    <tr>\n",
       "      <th>1861</th>\n",
       "      <td>2015-12-30</td>\n",
       "      <td>17711.93945</td>\n",
       "      <td>17714.13086</td>\n",
       "      <td>17588.86914</td>\n",
       "      <td>17603.86914</td>\n",
       "      <td>59760000</td>\n",
       "      <td>0.334222</td>\n",
       "      <td>-0.010854</td>\n",
       "      <td>-0.9917</td>\n",
       "      <td>0.189</td>\n",
       "      <td>0.724</td>\n",
       "      <td>0.087</td>\n",
       "    </tr>\n",
       "    <tr>\n",
       "      <th>1862</th>\n",
       "      <td>2015-12-31</td>\n",
       "      <td>17590.66016</td>\n",
       "      <td>17590.66016</td>\n",
       "      <td>17421.16016</td>\n",
       "      <td>17425.02930</td>\n",
       "      <td>93690000</td>\n",
       "      <td>0.374019</td>\n",
       "      <td>0.034860</td>\n",
       "      <td>-0.9666</td>\n",
       "      <td>0.133</td>\n",
       "      <td>0.768</td>\n",
       "      <td>0.099</td>\n",
       "    </tr>\n",
       "  </tbody>\n",
       "</table>\n",
       "<p>1863 rows × 12 columns</p>\n",
       "</div>"
      ],
      "text/plain": [
       "           Date         Open         High          Low        Close  \\\n",
       "0    2008-08-08  11432.08984  11759.95996  11388.04004  11734.32031   \n",
       "1    2008-08-11  11729.66992  11867.11035  11675.53027  11782.34961   \n",
       "2    2008-08-12  11781.70020  11782.34961  11601.51953  11642.46973   \n",
       "3    2008-08-13  11632.80957  11633.78027  11453.33984  11532.95996   \n",
       "4    2008-08-14  11532.07031  11718.28027  11450.88965  11615.92969   \n",
       "...         ...          ...          ...          ...          ...   \n",
       "1858 2015-12-24  17593.25977  17606.33984  17543.94922  17552.16992   \n",
       "1859 2015-12-28  17535.66016  17536.90039  17437.33984  17528.26953   \n",
       "1860 2015-12-29  17547.36914  17750.01953  17547.36914  17720.98047   \n",
       "1861 2015-12-30  17711.93945  17714.13086  17588.86914  17603.86914   \n",
       "1862 2015-12-31  17590.66016  17590.66016  17421.16016  17425.02930   \n",
       "\n",
       "         Volume  Subjectivity  Polarity  Compound  Negative  Neutral  Positive  \n",
       "0     212830000      0.267549 -0.048568   -0.9982     0.233    0.726     0.041  \n",
       "1     183190000      0.374806  0.121956   -0.9858     0.188    0.724     0.088  \n",
       "2     173590000      0.518785 -0.046530   -0.9715     0.126    0.819     0.055  \n",
       "3     182550000      0.364021  0.011398   -0.9809     0.143    0.793     0.064  \n",
       "4     159790000      0.375099  0.040677   -0.9882     0.188    0.719     0.093  \n",
       "...         ...           ...       ...       ...       ...      ...       ...  \n",
       "1858   40350000      0.317617  0.052091   -0.9966     0.158    0.803     0.039  \n",
       "1859   59770000      0.284549 -0.030512   -0.9944     0.144    0.830     0.026  \n",
       "1860   69860000      0.359273  0.101038   -0.9920     0.143    0.817     0.039  \n",
       "1861   59760000      0.334222 -0.010854   -0.9917     0.189    0.724     0.087  \n",
       "1862   93690000      0.374019  0.034860   -0.9666     0.133    0.768     0.099  \n",
       "\n",
       "[1863 rows x 12 columns]"
      ]
     },
     "execution_count": 12,
     "metadata": {},
     "output_type": "execute_result"
    }
   ],
   "source": [
    "df_final = merge[['Date','Open','High','Low','Close','Volume','Subjectivity', 'Polarity', 'Compound', 'Negative', 'Neutral' ,'Positive']]\n",
    "df_final"
   ]
  },
  {
   "cell_type": "code",
   "execution_count": 13,
   "id": "1b3ae85d-e83a-4adf-8d7f-ca48f264b20c",
   "metadata": {},
   "outputs": [
    {
     "data": {
      "text/html": [
       "<div>\n",
       "<style scoped>\n",
       "    .dataframe tbody tr th:only-of-type {\n",
       "        vertical-align: middle;\n",
       "    }\n",
       "\n",
       "    .dataframe tbody tr th {\n",
       "        vertical-align: top;\n",
       "    }\n",
       "\n",
       "    .dataframe thead th {\n",
       "        text-align: right;\n",
       "    }\n",
       "</style>\n",
       "<table border=\"1\" class=\"dataframe\">\n",
       "  <thead>\n",
       "    <tr style=\"text-align: right;\">\n",
       "      <th></th>\n",
       "      <th>Open</th>\n",
       "      <th>Subjectivity</th>\n",
       "      <th>Polarity</th>\n",
       "      <th>Compound</th>\n",
       "      <th>Negative</th>\n",
       "      <th>Neutral</th>\n",
       "      <th>Positive</th>\n",
       "      <th>Close</th>\n",
       "    </tr>\n",
       "    <tr>\n",
       "      <th>Date</th>\n",
       "      <th></th>\n",
       "      <th></th>\n",
       "      <th></th>\n",
       "      <th></th>\n",
       "      <th></th>\n",
       "      <th></th>\n",
       "      <th></th>\n",
       "      <th></th>\n",
       "    </tr>\n",
       "  </thead>\n",
       "  <tbody>\n",
       "    <tr>\n",
       "      <th>2008-08-08</th>\n",
       "      <td>11432.08984</td>\n",
       "      <td>0.267549</td>\n",
       "      <td>-0.048568</td>\n",
       "      <td>-0.9982</td>\n",
       "      <td>0.233</td>\n",
       "      <td>0.726</td>\n",
       "      <td>0.041</td>\n",
       "      <td>11734.32031</td>\n",
       "    </tr>\n",
       "    <tr>\n",
       "      <th>2008-08-11</th>\n",
       "      <td>11729.66992</td>\n",
       "      <td>0.374806</td>\n",
       "      <td>0.121956</td>\n",
       "      <td>-0.9858</td>\n",
       "      <td>0.188</td>\n",
       "      <td>0.724</td>\n",
       "      <td>0.088</td>\n",
       "      <td>11782.34961</td>\n",
       "    </tr>\n",
       "    <tr>\n",
       "      <th>2008-08-12</th>\n",
       "      <td>11781.70020</td>\n",
       "      <td>0.518785</td>\n",
       "      <td>-0.046530</td>\n",
       "      <td>-0.9715</td>\n",
       "      <td>0.126</td>\n",
       "      <td>0.819</td>\n",
       "      <td>0.055</td>\n",
       "      <td>11642.46973</td>\n",
       "    </tr>\n",
       "    <tr>\n",
       "      <th>2008-08-13</th>\n",
       "      <td>11632.80957</td>\n",
       "      <td>0.364021</td>\n",
       "      <td>0.011398</td>\n",
       "      <td>-0.9809</td>\n",
       "      <td>0.143</td>\n",
       "      <td>0.793</td>\n",
       "      <td>0.064</td>\n",
       "      <td>11532.95996</td>\n",
       "    </tr>\n",
       "    <tr>\n",
       "      <th>2008-08-14</th>\n",
       "      <td>11532.07031</td>\n",
       "      <td>0.375099</td>\n",
       "      <td>0.040677</td>\n",
       "      <td>-0.9882</td>\n",
       "      <td>0.188</td>\n",
       "      <td>0.719</td>\n",
       "      <td>0.093</td>\n",
       "      <td>11615.92969</td>\n",
       "    </tr>\n",
       "    <tr>\n",
       "      <th>...</th>\n",
       "      <td>...</td>\n",
       "      <td>...</td>\n",
       "      <td>...</td>\n",
       "      <td>...</td>\n",
       "      <td>...</td>\n",
       "      <td>...</td>\n",
       "      <td>...</td>\n",
       "      <td>...</td>\n",
       "    </tr>\n",
       "    <tr>\n",
       "      <th>2015-12-24</th>\n",
       "      <td>17593.25977</td>\n",
       "      <td>0.317617</td>\n",
       "      <td>0.052091</td>\n",
       "      <td>-0.9966</td>\n",
       "      <td>0.158</td>\n",
       "      <td>0.803</td>\n",
       "      <td>0.039</td>\n",
       "      <td>17552.16992</td>\n",
       "    </tr>\n",
       "    <tr>\n",
       "      <th>2015-12-28</th>\n",
       "      <td>17535.66016</td>\n",
       "      <td>0.284549</td>\n",
       "      <td>-0.030512</td>\n",
       "      <td>-0.9944</td>\n",
       "      <td>0.144</td>\n",
       "      <td>0.830</td>\n",
       "      <td>0.026</td>\n",
       "      <td>17528.26953</td>\n",
       "    </tr>\n",
       "    <tr>\n",
       "      <th>2015-12-29</th>\n",
       "      <td>17547.36914</td>\n",
       "      <td>0.359273</td>\n",
       "      <td>0.101038</td>\n",
       "      <td>-0.9920</td>\n",
       "      <td>0.143</td>\n",
       "      <td>0.817</td>\n",
       "      <td>0.039</td>\n",
       "      <td>17720.98047</td>\n",
       "    </tr>\n",
       "    <tr>\n",
       "      <th>2015-12-30</th>\n",
       "      <td>17711.93945</td>\n",
       "      <td>0.334222</td>\n",
       "      <td>-0.010854</td>\n",
       "      <td>-0.9917</td>\n",
       "      <td>0.189</td>\n",
       "      <td>0.724</td>\n",
       "      <td>0.087</td>\n",
       "      <td>17603.86914</td>\n",
       "    </tr>\n",
       "    <tr>\n",
       "      <th>2015-12-31</th>\n",
       "      <td>17590.66016</td>\n",
       "      <td>0.374019</td>\n",
       "      <td>0.034860</td>\n",
       "      <td>-0.9666</td>\n",
       "      <td>0.133</td>\n",
       "      <td>0.768</td>\n",
       "      <td>0.099</td>\n",
       "      <td>17425.02930</td>\n",
       "    </tr>\n",
       "  </tbody>\n",
       "</table>\n",
       "<p>1863 rows × 8 columns</p>\n",
       "</div>"
      ],
      "text/plain": [
       "                   Open  Subjectivity  Polarity  Compound  Negative  Neutral  \\\n",
       "Date                                                                           \n",
       "2008-08-08  11432.08984      0.267549 -0.048568   -0.9982     0.233    0.726   \n",
       "2008-08-11  11729.66992      0.374806  0.121956   -0.9858     0.188    0.724   \n",
       "2008-08-12  11781.70020      0.518785 -0.046530   -0.9715     0.126    0.819   \n",
       "2008-08-13  11632.80957      0.364021  0.011398   -0.9809     0.143    0.793   \n",
       "2008-08-14  11532.07031      0.375099  0.040677   -0.9882     0.188    0.719   \n",
       "...                 ...           ...       ...       ...       ...      ...   \n",
       "2015-12-24  17593.25977      0.317617  0.052091   -0.9966     0.158    0.803   \n",
       "2015-12-28  17535.66016      0.284549 -0.030512   -0.9944     0.144    0.830   \n",
       "2015-12-29  17547.36914      0.359273  0.101038   -0.9920     0.143    0.817   \n",
       "2015-12-30  17711.93945      0.334222 -0.010854   -0.9917     0.189    0.724   \n",
       "2015-12-31  17590.66016      0.374019  0.034860   -0.9666     0.133    0.768   \n",
       "\n",
       "            Positive        Close  \n",
       "Date                               \n",
       "2008-08-08     0.041  11734.32031  \n",
       "2008-08-11     0.088  11782.34961  \n",
       "2008-08-12     0.055  11642.46973  \n",
       "2008-08-13     0.064  11532.95996  \n",
       "2008-08-14     0.093  11615.92969  \n",
       "...              ...          ...  \n",
       "2015-12-24     0.039  17552.16992  \n",
       "2015-12-28     0.026  17528.26953  \n",
       "2015-12-29     0.039  17720.98047  \n",
       "2015-12-30     0.087  17603.86914  \n",
       "2015-12-31     0.099  17425.02930  \n",
       "\n",
       "[1863 rows x 8 columns]"
      ]
     },
     "execution_count": 13,
     "metadata": {},
     "output_type": "execute_result"
    }
   ],
   "source": [
    "data=df_final[['Date','Open','Subjectivity', 'Polarity', 'Compound', 'Negative', 'Neutral' ,'Positive']]\n",
    "data.index=data['Date']\n",
    "data.drop('Date', axis=1, inplace=True)\n",
    "data['Close']=df_final['Close'].values\n",
    "data"
   ]
  },
  {
   "cell_type": "code",
   "execution_count": 14,
   "id": "099fbf09-8d85-403f-81a6-9f09f216c174",
   "metadata": {},
   "outputs": [],
   "source": [
    "dataset = data.values\n",
    "\n",
    "train = dataset[0:1400,:]\n",
    "valid = dataset[1400:,7]"
   ]
  },
  {
   "cell_type": "code",
   "execution_count": 15,
   "id": "c88b5d84-4023-4a62-b8ff-62d4985dc58b",
   "metadata": {},
   "outputs": [],
   "source": [
    "x_train, y_train = [], []\n",
    "for i in range(60,len(train)):\n",
    "    x_train.append(dataset[i-60:i,0:7])\n",
    "    y_train.append(dataset[i,7])\n",
    "x_train, y_train = np.array(x_train), np.array(y_train)"
   ]
  },
  {
   "cell_type": "code",
   "execution_count": 16,
   "id": "545462e8-f424-4000-aa50-d5ca2803dc2b",
   "metadata": {},
   "outputs": [
    {
     "data": {
      "text/plain": [
       "(1340, 1)"
      ]
     },
     "execution_count": 16,
     "metadata": {},
     "output_type": "execute_result"
    }
   ],
   "source": [
    "y_train = y_train.reshape(-1,1)\n",
    "y_train.shape"
   ]
  },
  {
   "cell_type": "code",
   "execution_count": 17,
   "id": "a1b8ed1b-44e3-4550-a34b-0e9d3a9161c0",
   "metadata": {},
   "outputs": [],
   "source": [
    "scaler1 = MinMaxScaler(feature_range=(0, 1))\n",
    "scaler2 = MinMaxScaler(feature_range=(0, 1))\n",
    "\n",
    "x = scaler1.fit_transform(x_train[:,:,0])\n",
    "y_train = scaler2.fit_transform(y_train)"
   ]
  },
  {
   "cell_type": "code",
   "execution_count": 18,
   "id": "c0c3e297-cfee-4c65-9a5f-ee3cec1af8fd",
   "metadata": {},
   "outputs": [
    {
     "data": {
      "text/plain": [
       "(1340, 60, 1)"
      ]
     },
     "execution_count": 18,
     "metadata": {},
     "output_type": "execute_result"
    }
   ],
   "source": [
    "x = x.reshape(1340,60,1)\n",
    "x.shape"
   ]
  },
  {
   "cell_type": "code",
   "execution_count": 19,
   "id": "bf2e1f6f-c875-4644-95eb-bcbdec58eb40",
   "metadata": {},
   "outputs": [],
   "source": [
    "x_dummy=x_train[:,:,1:7]"
   ]
  },
  {
   "cell_type": "code",
   "execution_count": 20,
   "id": "230e1735-c66e-4311-b262-e45cdd9e21bf",
   "metadata": {},
   "outputs": [],
   "source": [
    "result = np.concatenate((x,x_dummy), axis=2)"
   ]
  },
  {
   "cell_type": "code",
   "execution_count": 21,
   "id": "f7908b8c-984f-4417-89ab-14cfa789e1cc",
   "metadata": {},
   "outputs": [
    {
     "name": "stdout",
     "output_type": "stream",
     "text": [
      "Epoch 1/10\n",
      "1340/1340 [==============================] - 63s 41ms/step - loss: 0.0041\n",
      "Epoch 2/10\n",
      "1340/1340 [==============================] - 58s 44ms/step - loss: 0.0012\n",
      "Epoch 3/10\n",
      "1340/1340 [==============================] - 60s 45ms/step - loss: 9.9984e-04\n",
      "Epoch 4/10\n",
      "1340/1340 [==============================] - 60s 45ms/step - loss: 0.0010\n",
      "Epoch 5/10\n",
      "1340/1340 [==============================] - 63s 47ms/step - loss: 6.7181e-04\n",
      "Epoch 6/10\n",
      "1340/1340 [==============================] - 64s 47ms/step - loss: 6.7665e-04\n",
      "Epoch 7/10\n",
      "1340/1340 [==============================] - 64s 48ms/step - loss: 5.7691e-04\n",
      "Epoch 8/10\n",
      "1340/1340 [==============================] - 64s 48ms/step - loss: 5.9859e-04\n",
      "Epoch 9/10\n",
      "1340/1340 [==============================] - 57s 43ms/step - loss: 5.4845e-04\n",
      "Epoch 10/10\n",
      "1340/1340 [==============================] - 59s 44ms/step - loss: 4.9152e-04\n"
     ]
    },
    {
     "data": {
      "text/plain": [
       "<keras.src.callbacks.History at 0x190a7348640>"
      ]
     },
     "execution_count": 21,
     "metadata": {},
     "output_type": "execute_result"
    }
   ],
   "source": [
    "model = Sequential()\n",
    "model.add(LSTM(units=50, return_sequences=True, input_shape=(x_train.shape[1],7)))\n",
    "model.add(LSTM(units=50))\n",
    "model.add(Dense(1))\n",
    "\n",
    "model.compile(loss='mean_squared_error', optimizer='adam')\n",
    "model.fit(result, y_train, epochs=10, batch_size=1, verbose=1)"
   ]
  },
  {
   "cell_type": "code",
   "execution_count": 22,
   "id": "b8506596-346d-4009-a4d1-371bde0c655c",
   "metadata": {},
   "outputs": [],
   "source": [
    "from tensorflow.keras.models import load_model, save_model\n",
    "model.save(\"Stocks.h5\")"
   ]
  },
  {
   "cell_type": "code",
   "execution_count": 23,
   "id": "4eb20e07-3dca-4c6a-9b13-7a6876f41193",
   "metadata": {},
   "outputs": [
    {
     "data": {
      "text/plain": [
       "(523, 8)"
      ]
     },
     "execution_count": 23,
     "metadata": {},
     "output_type": "execute_result"
    }
   ],
   "source": [
    "inputs=dataset[len(data) - len(valid) - 60:,]\n",
    "inputs.shape"
   ]
  },
  {
   "cell_type": "code",
   "execution_count": 24,
   "id": "dd2926c9-b954-4e92-b08b-a91485b84d76",
   "metadata": {},
   "outputs": [],
   "source": [
    "X_test = []\n",
    "for i in range(60,inputs.shape[0]):\n",
    "    X_test.append(inputs[i-60:i,0:7])\n",
    "X_test = np.array(X_test)"
   ]
  },
  {
   "cell_type": "code",
   "execution_count": 25,
   "id": "5754fb4f-5483-4d2a-82fe-6ed4f6e1e271",
   "metadata": {},
   "outputs": [],
   "source": [
    "inputs  = scaler1.transform(X_test[:,:,0])"
   ]
  },
  {
   "cell_type": "code",
   "execution_count": 26,
   "id": "61e4bdfe-dcb6-4340-852d-6765fdd3e41f",
   "metadata": {},
   "outputs": [
    {
     "data": {
      "text/plain": [
       "(463, 60, 1)"
      ]
     },
     "execution_count": 26,
     "metadata": {},
     "output_type": "execute_result"
    }
   ],
   "source": [
    "inputs= inputs.reshape(463,60,1)\n",
    "inputs.shape"
   ]
  },
  {
   "cell_type": "code",
   "execution_count": 27,
   "id": "9fd6f781-ae74-41e6-b2c2-b6f9042efaa2",
   "metadata": {},
   "outputs": [],
   "source": [
    "test_dummy=X_test[:,:,1:7]\n",
    "inputs = np.concatenate((inputs,test_dummy), axis=2)"
   ]
  },
  {
   "cell_type": "code",
   "execution_count": 28,
   "id": "22541b8d-82a3-477e-b6b6-6c950cf76fa2",
   "metadata": {},
   "outputs": [
    {
     "name": "stdout",
     "output_type": "stream",
     "text": [
      "15/15 [==============================] - 4s 28ms/step\n"
     ]
    }
   ],
   "source": [
    "closing_price = model.predict(inputs)"
   ]
  },
  {
   "cell_type": "code",
   "execution_count": 29,
   "id": "e018f542-acab-47ee-8c3e-ac3a2ed14f06",
   "metadata": {},
   "outputs": [],
   "source": [
    "closing_price = scaler2.inverse_transform(closing_price)"
   ]
  },
  {
   "cell_type": "code",
   "execution_count": 30,
   "id": "fc74236e-699b-4583-a441-a4bda58ec536",
   "metadata": {},
   "outputs": [
    {
     "data": {
      "text/plain": [
       "866.9135089894688"
      ]
     },
     "execution_count": 30,
     "metadata": {},
     "output_type": "execute_result"
    }
   ],
   "source": [
    "rms=np.sqrt(np.mean(np.power((valid-closing_price),2)))\n",
    "rms"
   ]
  },
  {
   "cell_type": "code",
   "execution_count": 31,
   "id": "21f4df72-0022-4cd7-8ccd-8b402c35ab3a",
   "metadata": {},
   "outputs": [
    {
     "data": {
      "text/plain": [
       "[<matplotlib.lines.Line2D at 0x190aeb11c10>,\n",
       " <matplotlib.lines.Line2D at 0x190aeb11ca0>]"
      ]
     },
     "execution_count": 31,
     "metadata": {},
     "output_type": "execute_result"
    },
    {
     "data": {
      "image/png": "[encoded data removed]",
      "text/plain": [
       "<Figure size 1600x800 with 1 Axes>"
      ]
     },
     "metadata": {},
     "output_type": "display_data"
    }
   ],
   "source": [
    "train = data[:1400]\n",
    "valid = data[1400:]\n",
    "valid['Predictions'] = closing_price\n",
    "plt.figure(figsize=(16,8))\n",
    "plt.plot(train['Close'])\n",
    "plt.plot(valid[['Close','Predictions']])"
   ]
  },
  {
   "cell_type": "code",
   "execution_count": 34,
   "id": "9d1c3313-6801-42b2-9dbb-11a138c829bb",
   "metadata": {},
   "outputs": [
    {
     "data": {
      "text/html": [
       "<div>\n",
       "<style scoped>\n",
       "    .dataframe tbody tr th:only-of-type {\n",
       "        vertical-align: middle;\n",
       "    }\n",
       "\n",
       "    .dataframe tbody tr th {\n",
       "        vertical-align: top;\n",
       "    }\n",
       "\n",
       "    .dataframe thead th {\n",
       "        text-align: right;\n",
       "    }\n",
       "</style>\n",
       "<table border=\"1\" class=\"dataframe\">\n",
       "  <thead>\n",
       "    <tr style=\"text-align: right;\">\n",
       "      <th></th>\n",
       "      <th>Open</th>\n",
       "      <th>Subjectivity</th>\n",
       "      <th>Polarity</th>\n",
       "      <th>Compound</th>\n",
       "      <th>Negative</th>\n",
       "      <th>Neutral</th>\n",
       "      <th>Positive</th>\n",
       "      <th>Close</th>\n",
       "    </tr>\n",
       "    <tr>\n",
       "      <th>Date</th>\n",
       "      <th></th>\n",
       "      <th></th>\n",
       "      <th></th>\n",
       "      <th></th>\n",
       "      <th></th>\n",
       "      <th></th>\n",
       "      <th></th>\n",
       "      <th></th>\n",
       "    </tr>\n",
       "  </thead>\n",
       "  <tbody>\n",
       "    <tr>\n",
       "      <th>2008-08-08</th>\n",
       "      <td>11432.08984</td>\n",
       "      <td>0.267549</td>\n",
       "      <td>-0.048568</td>\n",
       "      <td>-0.9982</td>\n",
       "      <td>0.233</td>\n",
       "      <td>0.726</td>\n",
       "      <td>0.041</td>\n",
       "      <td>11734.32031</td>\n",
       "    </tr>\n",
       "    <tr>\n",
       "      <th>2008-08-11</th>\n",
       "      <td>11729.66992</td>\n",
       "      <td>0.374806</td>\n",
       "      <td>0.121956</td>\n",
       "      <td>-0.9858</td>\n",
       "      <td>0.188</td>\n",
       "      <td>0.724</td>\n",
       "      <td>0.088</td>\n",
       "      <td>11782.34961</td>\n",
       "    </tr>\n",
       "    <tr>\n",
       "      <th>2008-08-12</th>\n",
       "      <td>11781.70020</td>\n",
       "      <td>0.518785</td>\n",
       "      <td>-0.046530</td>\n",
       "      <td>-0.9715</td>\n",
       "      <td>0.126</td>\n",
       "      <td>0.819</td>\n",
       "      <td>0.055</td>\n",
       "      <td>11642.46973</td>\n",
       "    </tr>\n",
       "    <tr>\n",
       "      <th>2008-08-13</th>\n",
       "      <td>11632.80957</td>\n",
       "      <td>0.364021</td>\n",
       "      <td>0.011398</td>\n",
       "      <td>-0.9809</td>\n",
       "      <td>0.143</td>\n",
       "      <td>0.793</td>\n",
       "      <td>0.064</td>\n",
       "      <td>11532.95996</td>\n",
       "    </tr>\n",
       "    <tr>\n",
       "      <th>2008-08-14</th>\n",
       "      <td>11532.07031</td>\n",
       "      <td>0.375099</td>\n",
       "      <td>0.040677</td>\n",
       "      <td>-0.9882</td>\n",
       "      <td>0.188</td>\n",
       "      <td>0.719</td>\n",
       "      <td>0.093</td>\n",
       "      <td>11615.92969</td>\n",
       "    </tr>\n",
       "  </tbody>\n",
       "</table>\n",
       "</div>"
      ],
      "text/plain": [
       "                   Open  Subjectivity  Polarity  Compound  Negative  Neutral  \\\n",
       "Date                                                                           \n",
       "2008-08-08  11432.08984      0.267549 -0.048568   -0.9982     0.233    0.726   \n",
       "2008-08-11  11729.66992      0.374806  0.121956   -0.9858     0.188    0.724   \n",
       "2008-08-12  11781.70020      0.518785 -0.046530   -0.9715     0.126    0.819   \n",
       "2008-08-13  11632.80957      0.364021  0.011398   -0.9809     0.143    0.793   \n",
       "2008-08-14  11532.07031      0.375099  0.040677   -0.9882     0.188    0.719   \n",
       "\n",
       "            Positive        Close  \n",
       "Date                               \n",
       "2008-08-08     0.041  11734.32031  \n",
       "2008-08-11     0.088  11782.34961  \n",
       "2008-08-12     0.055  11642.46973  \n",
       "2008-08-13     0.064  11532.95996  \n",
       "2008-08-14     0.093  11615.92969  "
      ]
     },
     "execution_count": 34,
     "metadata": {},
     "output_type": "execute_result"
    }
   ],
   "source": [
    "data.head()"
   ]
  },
  {
   "cell_type": "code",
   "execution_count": 37,
   "id": "b139c4ba-d077-492b-948b-c321b23d0229",
   "metadata": {},
   "outputs": [],
   "source": [
    "data.to_csv(r\"C:\\Users\\Priyanshul\\OneDrive\\Desktop\\Trading Bot\\INFO.csv\", index=True)"
   ]
  },
  {
   "cell_type": "code",
   "execution_count": 40,
   "id": "6adbd605-52c3-4068-8917-2adf5db59e1e",
   "metadata": {},
   "outputs": [],
   "source": [
    "import pickle\n",
    "with open(r\"C:\\Users\\Priyanshul\\OneDrive\\Desktop\\Trading Bot\\scaler1.pkl\", \"wb\") as f:\n",
    "    pickle.dump(scaler1, f)"
   ]
  },
  {
   "cell_type": "code",
   "execution_count": 41,
   "id": "edddb5c0-9ef6-4ff9-b233-70acb3ccd596",
   "metadata": {},
   "outputs": [],
   "source": [
    "with open(r\"C:\\Users\\Priyanshul\\OneDrive\\Desktop\\Trading Bot\\scaler2.pkl\", \"wb\") as f:\n",
    "    pickle.dump(scaler2, f)"
   ]
  },
  {
   "cell_type": "code",
   "execution_count": null,
   "id": "0afa43f0-3b39-41bd-b8ed-c22e19b239ec",
   "metadata": {},
   "outputs": [],
   "source": []
  }
 ],
 "metadata": {
  "kernelspec": {
   "display_name": "Python 3 (ipykernel)",
   "language": "python",
   "name": "python3"
  },
  "language_info": {
   "codemirror_mode": {
    "name": "ipython",
    "version": 3
   },
   "file_extension": ".py",
   "mimetype": "text/x-python",
   "name": "python",
   "nbconvert_exporter": "python",
   "pygments_lexer": "ipython3",
   "version": "3.8.0"
  }
 },
 "nbformat": 4,
 "nbformat_minor": 5
}
