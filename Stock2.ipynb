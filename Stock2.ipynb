{
 "cells": [
  {
   "cell_type": "code",
   "execution_count": 1,
   "id": "05552ef4-d56f-4f7b-a2ce-54a93e36c68d",
   "metadata": {},
   "outputs": [],
   "source": [
    "import numpy as np\n",
    "import pandas as pd\n",
    "\n",
    "from textblob import TextBlob\n",
    "import re\n",
    "from vaderSentiment.vaderSentiment import SentimentIntensityAnalyzer\n",
    "from sklearn.preprocessing import StandardScaler\n",
    "\n",
    "from tensorflow.keras.models import load_model, save_model\n",
    "import pickle\n",
    "\n",
    "import warnings \n",
    "warnings.filterwarnings('ignore')"
   ]
  },
  {
   "cell_type": "code",
   "execution_count": 2,
   "id": "dcf05cd3-a25e-4818-a067-824321de8380",
   "metadata": {},
   "outputs": [],
   "source": [
    "model = load_model(\"Stocks.h5\")\n",
    "data=pd.read_csv(r\"C:\\Users\\Priyanshul\\OneDrive\\Desktop\\Trading Bot\\INFO.csv\")\n",
    "with open(r\"C:\\Users\\Priyanshul\\OneDrive\\Desktop\\Trading Bot\\scaler1.pkl\", \"rb\") as f:\n",
    "    scaler1 = pickle.load(f)\n",
    "with open(r\"C:\\Users\\Priyanshul\\OneDrive\\Desktop\\Trading Bot\\scaler2.pkl\", \"rb\") as f:\n",
    "    scaler2 = pickle.load(f)"
   ]
  },
  {
   "cell_type": "code",
   "execution_count": 3,
   "id": "2462952e-0bb6-4e7c-ae5f-97153e99e5da",
   "metadata": {},
   "outputs": [],
   "source": [
    "data.index=data['Date']\n",
    "data.drop('Date', axis=1, inplace=True)\n",
    "test_req=data.iloc[1803:1863,0:7]"
   ]
  },
  {
   "cell_type": "code",
   "execution_count": 4,
   "id": "b082b398-e743-4f03-8639-a25bea397b60",
   "metadata": {},
   "outputs": [],
   "source": [
    "def clean_text(text):\n",
    "    text = re.sub(\"b[(')]\",' ', text)\n",
    "    text = re.sub('b[(\")]',' ', text)\n",
    "    text = re.sub(\"\\'\",' ', text)\n",
    "    return text"
   ]
  },
  {
   "cell_type": "code",
   "execution_count": 5,
   "id": "0a3cfff6-b61a-4578-a467-94f227106ca5",
   "metadata": {},
   "outputs": [],
   "source": [
    "def getSubjectivity(text):\n",
    "    return TextBlob(text).sentiment.subjectivity\n",
    "\n",
    "def getPolarity(text):\n",
    "    return TextBlob(text).sentiment.polarity\n",
    "\n",
    "def getSIA(text):\n",
    "    sia = SentimentIntensityAnalyzer()\n",
    "    sentiment = sia.polarity_scores(text)\n",
    "    return sentiment"
   ]
  },
  {
   "cell_type": "code",
   "execution_count": 6,
   "id": "fa5e6640-58e4-4d57-a61d-7e7db3964fce",
   "metadata": {},
   "outputs": [],
   "source": [
    "def predict_stock_close_price(open_price, headline, merged_df_test):\n",
    "    # Clean the headline\n",
    "    clean_headline = clean_text(headline)\n",
    "\n",
    "    # Get subjectivity and polarity\n",
    "    subjectivity = getSubjectivity(clean_headline)\n",
    "    polarity = getPolarity(clean_headline)\n",
    "\n",
    "    # Get sentiment scores\n",
    "    SIA = getSIA(clean_headline)\n",
    "    compound = SIA['compound']\n",
    "    negative = SIA['neg']\n",
    "    neutral = SIA['neu']\n",
    "    positive = SIA['pos']\n",
    "\n",
    "    # Append the new data to the test dataframe\n",
    "    new_data = pd.DataFrame([[open_price, subjectivity, polarity, compound, negative, neutral, positive]], columns=merged_df_test.columns)\n",
    "    merged_df_test = merged_df_test.append(new_data, ignore_index=True)\n",
    "    \n",
    "    # Create a 60 days window for the input data\n",
    "    test_x = []\n",
    "    for i in range(60, merged_df_test.shape[0]):\n",
    "        test_x.append(merged_df_test.iloc[i-60:i, 0:7].values)  \n",
    "    test_x= np.array(test_x)\n",
    "\n",
    "    inputs_test  = scaler1.transform(test_x[:,:,0])\n",
    "    inputs_test= inputs_test.reshape(1,60,1)\n",
    "    dummy_test=test_x[:,:,1:7]\n",
    "    inputs_test = np.concatenate((inputs_test,dummy_test), axis=2)\n",
    "    # Make prediction\n",
    "    closing_price_test = model.predict(inputs_test)\n",
    "    closing_price_test = scaler2.inverse_transform(closing_price_test)\n",
    "\n",
    "    window_size = 60  # Define your window size\n",
    "    ma_slow = np.mean(merged_df_test['Open'][-window_size:])  # Slow moving average\n",
    "    ma_fast = np.mean(merged_df_test['Open'][-window_size//2:])  # Fast moving average\n",
    "\n",
    "    # Determine buy and sell signals\n",
    "    if ma_fast > ma_slow:\n",
    "        action = 'Buy'\n",
    "    else:\n",
    "        action = 'Sell'\n",
    "\n",
    "    return {'Predicted_close_price': closing_price_test, 'Action': action}"
   ]
  },
  {
   "cell_type": "code",
   "execution_count": 7,
   "id": "c8ad31c5-1747-40ed-a74a-0904bd219608",
   "metadata": {},
   "outputs": [],
   "source": [
    "open_price=17113.55078\n",
    "headline='b\"Georgia \\'downs two Russian warplanes\\' as countries move to brink of war\" b\\'BREAKING: Musharraf to be impeached.\\' b\\'Russia Today: Columns of troops roll into South Ossetia; footage from fighting (YouTube)\\' b\\'Russian tanks are moving towards the capital of South Ossetia, which has reportedly been completely destroyed by Georgian artillery fire\\' b\"Afghan children raped with \\'impunity,\\' U.N. official says - this is sick, a three year old was raped and they do nothing\" b\\'150 Russian tanks have entered South Ossetia whilst Georgia shoots down two Russian jets.\\' b\"Breaking: Georgia invades South Ossetia, Russia warned it would intervene on SO\\'s side\" b\"The \\'enemy combatent\\' trials are nothing but a sham: Salim Haman has been sentenced to 5 1/2 years, but will be kept longer anyway just because they feel like it.\" b\\'Georgian troops retreat from S. Osettain capital, presumably leaving several hundred people killed. [VIDEO]\\' b\\'Did the U.S. Prep Georgia for War with Russia?\\' b\\'Rice Gives Green Light for Israel to Attack Iran: Says U.S. has no veto over Israeli military ops\\' b\\'Announcing:Class Action Lawsuit on Behalf of American Public Against the FBI\\' b\"So---Russia and Georgia are at war and the NYT\\'s top story is opening ceremonies of the Olympics?  What a fucking disgrace and yet further proof of the decline of journalism.\" b\"China tells Bush to stay out of other countries\\' affairs\" b\\'Did World War III start today?\\' b\\'Georgia Invades South Ossetia - if Russia gets involved, will NATO absorb Georgia and unleash a full scale war?\\' b\\'Al-Qaeda Faces Islamist Backlash\\' b\\'Condoleezza Rice: \"The US would not act to prevent an Israeli strike on Iran.\" Israeli Defense Minister Ehud Barak: \"Israel is prepared for uncompromising victory in the case of military hostilities.\"\\' b\\'This is a busy day:  The European Union has approved new sanctions against Iran in protest at its nuclear programme.\\' b\"Georgia will withdraw 1,000 soldiers from Iraq to help fight off Russian forces in Georgia\\'s breakaway region of South Ossetia\" b\\'Why the Pentagon Thinks Attacking Iran is a Bad Idea - US News &amp; World Report\\' b\\'Caucasus in crisis: Georgia invades South Ossetia\\' b\\'Indian shoe manufactory  - And again in a series of \"you do not like your work?\"\\' b\\'Visitors Suffering from Mental Illnesses Banned from Olympics\\' b\"No Help for Mexico\\'s Kidnapping Surge\"'"
   ]
  },
  {
   "cell_type": "code",
   "execution_count": 8,
   "id": "e1dcf2d8-ae5b-4c83-b0ea-bc00f90d1d03",
   "metadata": {},
   "outputs": [
    {
     "name": "stdout",
     "output_type": "stream",
     "text": [
      "1/1 [==============================] - 1s 1s/step\n"
     ]
    },
    {
     "data": {
      "text/plain": [
       "{'Predicted_close_price': array([[17581.467]], dtype=float32), 'Action': 'Buy'}"
      ]
     },
     "execution_count": 8,
     "metadata": {},
     "output_type": "execute_result"
    }
   ],
   "source": [
    "result=predict_stock_close_price(open_price, headline, test_req)\n",
    "result"
   ]
  },
  {
   "cell_type": "code",
   "execution_count": null,
   "id": "1cbfbfd3-1d86-4c23-9044-3ec5d054d1bf",
   "metadata": {},
   "outputs": [],
   "source": []
  }
 ],
 "metadata": {
  "kernelspec": {
   "display_name": "Python 3 (ipykernel)",
   "language": "python",
   "name": "python3"
  },
  "language_info": {
   "codemirror_mode": {
    "name": "ipython",
    "version": 3
   },
   "file_extension": ".py",
   "mimetype": "text/x-python",
   "name": "python",
   "nbconvert_exporter": "python",
   "pygments_lexer": "ipython3",
   "version": "3.8.0"
  }
 },
 "nbformat": 4,
 "nbformat_minor": 5
}
